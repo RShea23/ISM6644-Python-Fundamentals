{
 "cells": [
  {
   "cell_type": "code",
   "execution_count": 3,
   "id": "e2f2971c-ccee-412a-b26f-5b2cf29c3bdc",
   "metadata": {},
   "outputs": [
    {
     "name": "stdout",
     "output_type": "stream",
     "text": [
      "     mean radius  mean texture  mean perimeter  mean area  mean smoothness  \\\n",
      "0          17.99         10.38          122.80     1001.0          0.11840   \n",
      "1          20.57         17.77          132.90     1326.0          0.08474   \n",
      "2          19.69         21.25          130.00     1203.0          0.10960   \n",
      "3          11.42         20.38           77.58      386.1          0.14250   \n",
      "4          20.29         14.34          135.10     1297.0          0.10030   \n",
      "..           ...           ...             ...        ...              ...   \n",
      "564        21.56         22.39          142.00     1479.0          0.11100   \n",
      "565        20.13         28.25          131.20     1261.0          0.09780   \n",
      "566        16.60         28.08          108.30      858.1          0.08455   \n",
      "567        20.60         29.33          140.10     1265.0          0.11780   \n",
      "568         7.76         24.54           47.92      181.0          0.05263   \n",
      "\n",
      "     mean compactness  mean concavity  mean concave points  mean symmetry  \\\n",
      "0             0.27760         0.30010              0.14710         0.2419   \n",
      "1             0.07864         0.08690              0.07017         0.1812   \n",
      "2             0.15990         0.19740              0.12790         0.2069   \n",
      "3             0.28390         0.24140              0.10520         0.2597   \n",
      "4             0.13280         0.19800              0.10430         0.1809   \n",
      "..                ...             ...                  ...            ...   \n",
      "564           0.11590         0.24390              0.13890         0.1726   \n",
      "565           0.10340         0.14400              0.09791         0.1752   \n",
      "566           0.10230         0.09251              0.05302         0.1590   \n",
      "567           0.27700         0.35140              0.15200         0.2397   \n",
      "568           0.04362         0.00000              0.00000         0.1587   \n",
      "\n",
      "     mean fractal dimension  ...  worst texture  worst perimeter  worst area  \\\n",
      "0                   0.07871  ...          17.33           184.60      2019.0   \n",
      "1                   0.05667  ...          23.41           158.80      1956.0   \n",
      "2                   0.05999  ...          25.53           152.50      1709.0   \n",
      "3                   0.09744  ...          26.50            98.87       567.7   \n",
      "4                   0.05883  ...          16.67           152.20      1575.0   \n",
      "..                      ...  ...            ...              ...         ...   \n",
      "564                 0.05623  ...          26.40           166.10      2027.0   \n",
      "565                 0.05533  ...          38.25           155.00      1731.0   \n",
      "566                 0.05648  ...          34.12           126.70      1124.0   \n",
      "567                 0.07016  ...          39.42           184.60      1821.0   \n",
      "568                 0.05884  ...          30.37            59.16       268.6   \n",
      "\n",
      "     worst smoothness  worst compactness  worst concavity  \\\n",
      "0             0.16220            0.66560           0.7119   \n",
      "1             0.12380            0.18660           0.2416   \n",
      "2             0.14440            0.42450           0.4504   \n",
      "3             0.20980            0.86630           0.6869   \n",
      "4             0.13740            0.20500           0.4000   \n",
      "..                ...                ...              ...   \n",
      "564           0.14100            0.21130           0.4107   \n",
      "565           0.11660            0.19220           0.3215   \n",
      "566           0.11390            0.30940           0.3403   \n",
      "567           0.16500            0.86810           0.9387   \n",
      "568           0.08996            0.06444           0.0000   \n",
      "\n",
      "     worst concave points  worst symmetry  worst fractal dimension  target  \n",
      "0                  0.2654          0.4601                  0.11890       0  \n",
      "1                  0.1860          0.2750                  0.08902       0  \n",
      "2                  0.2430          0.3613                  0.08758       0  \n",
      "3                  0.2575          0.6638                  0.17300       0  \n",
      "4                  0.1625          0.2364                  0.07678       0  \n",
      "..                    ...             ...                      ...     ...  \n",
      "564                0.2216          0.2060                  0.07115       0  \n",
      "565                0.1628          0.2572                  0.06637       0  \n",
      "566                0.1418          0.2218                  0.07820       0  \n",
      "567                0.2650          0.4087                  0.12400       0  \n",
      "568                0.0000          0.2871                  0.07039       1  \n",
      "\n",
      "[569 rows x 31 columns]\n"
     ]
    }
   ],
   "source": [
    "# Import NumPy and Pandas\n",
    "import numpy as np\n",
    "import pandas as pd\n",
    "from sklearn.datasets import load_breast_cancer\n",
    "\n",
    "# Load the breast cancer dataset\n",
    "data = load_breast_cancer(as_frame=True)\n",
    "df = data.frame\n",
    "\n",
    "# Show the df to see how big it is\n",
    "print(df)"
   ]
  },
  {
   "cell_type": "code",
   "execution_count": 5,
   "id": "030c32f0-a935-426d-b323-62c0b7979464",
   "metadata": {},
   "outputs": [
    {
     "data": {
      "text/html": [
       "<div>\n",
       "<style scoped>\n",
       "    .dataframe tbody tr th:only-of-type {\n",
       "        vertical-align: middle;\n",
       "    }\n",
       "\n",
       "    .dataframe tbody tr th {\n",
       "        vertical-align: top;\n",
       "    }\n",
       "\n",
       "    .dataframe thead th {\n",
       "        text-align: right;\n",
       "    }\n",
       "</style>\n",
       "<table border=\"1\" class=\"dataframe\">\n",
       "  <thead>\n",
       "    <tr style=\"text-align: right;\">\n",
       "      <th></th>\n",
       "      <th>mean radius</th>\n",
       "      <th>mean area</th>\n",
       "    </tr>\n",
       "  </thead>\n",
       "  <tbody>\n",
       "    <tr>\n",
       "      <th>0</th>\n",
       "      <td>17.99</td>\n",
       "      <td>1001.0</td>\n",
       "    </tr>\n",
       "    <tr>\n",
       "      <th>1</th>\n",
       "      <td>20.57</td>\n",
       "      <td>1326.0</td>\n",
       "    </tr>\n",
       "    <tr>\n",
       "      <th>2</th>\n",
       "      <td>19.69</td>\n",
       "      <td>1203.0</td>\n",
       "    </tr>\n",
       "    <tr>\n",
       "      <th>3</th>\n",
       "      <td>11.42</td>\n",
       "      <td>386.1</td>\n",
       "    </tr>\n",
       "    <tr>\n",
       "      <th>4</th>\n",
       "      <td>20.29</td>\n",
       "      <td>1297.0</td>\n",
       "    </tr>\n",
       "  </tbody>\n",
       "</table>\n",
       "</div>"
      ],
      "text/plain": [
       "   mean radius  mean area\n",
       "0        17.99     1001.0\n",
       "1        20.57     1326.0\n",
       "2        19.69     1203.0\n",
       "3        11.42      386.1\n",
       "4        20.29     1297.0"
      ]
     },
     "execution_count": 5,
     "metadata": {},
     "output_type": "execute_result"
    }
   ],
   "source": [
    " # I've decided to do mean radius and mean area\n",
    "features = df[['mean radius', 'mean area']]\n",
    "features.head()"
   ]
  },
  {
   "cell_type": "code",
   "execution_count": 8,
   "id": "c6e3fb5b-e9d9-4c7f-9d2e-35140ec500e4",
   "metadata": {},
   "outputs": [
    {
     "data": {
      "image/png": "[encoded data removed]",
      "text/plain": [
       "<Figure size 640x480 with 1 Axes>"
      ]
     },
     "metadata": {},
     "output_type": "display_data"
    },
    {
     "data": {
      "image/png": "[encoded data removed]",
      "text/plain": [
       "<Figure size 640x480 with 1 Axes>"
      ]
     },
     "metadata": {},
     "output_type": "display_data"
    }
   ],
   "source": [
    "# Visualize the data with box plots\n",
    "import matplotlib.pyplot as plt\n",
    "plt.boxplot(df['mean radius'])\n",
    "plt.title('Boxplot of Mean Radius')\n",
    "plt.show()\n",
    "\n",
    "plt.boxplot(df['mean area'])\n",
    "plt.title('Boxplot of Mean Area')\n",
    "plt.show()"
   ]
  },
  {
   "cell_type": "code",
   "execution_count": 21,
   "id": "f89aebd5-7565-4d49-9401-64c9e1b7e9f2",
   "metadata": {},
   "outputs": [
    {
     "name": "stdout",
     "output_type": "stream",
     "text": [
      "    mean radius  z_scoe_radius  is_outlier_radius_z\n",
      "0         17.99       1.409052                False\n",
      "1         20.57       2.269904                False\n",
      "2         19.69       1.976280                False\n",
      "3         11.42      -0.783118                False\n",
      "4         20.29       2.176478                False\n",
      "5         12.45      -0.439444                False\n",
      "6         18.25       1.495804                False\n",
      "7         13.71      -0.019028                False\n",
      "8         13.00      -0.255929                False\n",
      "9         12.46      -0.436108                False\n",
      "10        16.02       0.751735                False\n",
      "11        15.78       0.671655                False\n",
      "12        19.17       1.802775                False\n",
      "13        15.85       0.695012                False\n",
      "14        13.73      -0.012355                False\n"
     ]
    }
   ],
   "source": [
    "# Detect the outliers\n",
    "# First the mean radius\n",
    "df['z_score_radius'] = (df['mean radius'] - df['mean radius'].mean()) / df['mean radius'].std()\n",
    "df['is_outlier_radius_z'] = df['z_score_radius'].apply(lambda x: abs(x) >3)\n",
    "\n",
    "# Now the mean area\n",
    "df['z_score_area'] = (df['mean area'] - df['mean area'].mean()) / df['mean area'].std()\n",
    "df['is_outlier_area_z'] = df['z_score_area'].apply(lambda x: abs(x) >3)\n",
    "\n",
    "print(df[['mean radius', 'z_score_radius', 'is_outlier_radius_z']].head(15))"
   ]
  },
  {
   "cell_type": "code",
   "execution_count": 19,
   "id": "31181215-4ed4-4f91-9bee-957547fb234e",
   "metadata": {},
   "outputs": [
    {
     "name": "stdout",
     "output_type": "stream",
     "text": [
      "[[0.77972944 0.85621568]\n",
      " [0.96246193 0.40698952]\n",
      " [0.90013457 0.40698952]\n",
      " [0.31439904 0.24223665]\n",
      " [0.9426305  0.40698952]]\n"
     ]
    }
   ],
   "source": [
    "# IQR Method for detecting outliers\n",
    "# IQR Radius method\n",
    "Q1_radius = df['mean radius'].quantile(0.25)\n",
    "Q3_radius = df['mean radius'].quantile(0.75)\n",
    "IQR_radius = Q3_radius - Q1_radius\n",
    "\n",
    "lower_bound_radius = Q1_radius - 1.5 * IQR_radius\n",
    "upper_bound_radius = Q3_radius + 1.5 * IQR_radius\n",
    "\n",
    "df['is_outlier_radius_iqr'] = df['mean radius'].apply(\n",
    "    lambda x: x < lower_bound_radius or x > upper_bound_radius)\n",
    "\n",
    "# IQR for mean area\n",
    "Q1_area = df['mean area'].quantile(0.25)\n",
    "Q3_area = df['mean area'].quantile(0.75)\n",
    "IQR_area = Q3_area - Q1_area\n",
    "\n",
    "lower_bound_area = Q1_area - 1.5 * IQR_area\n",
    "upper_bound_area = Q3_area + 1.5 * IQR_area\n",
    "\n",
    "df['is_outlier_area_iqr'] = df['mean area'].apply(\n",
    "    lambda x: x < lower_bound_area or x > upper_bound_area\n",
    ")\n",
    "# Removing the outliers\n",
    "df_no_outliers = df[\n",
    "    (df['is_outlier_radius_iqr'] == False) &\n",
    "    (df['is_outlier_area_iqr'] == False)\n",
    "]\n",
    "\n",
    "# Replace with the median\n",
    "median_radius = df['mean radius'].median()\n",
    "median_area = df['mean area'].median()\n",
    "\n",
    "df['mean radius'] = np.where(df['is_outlier_radius_iqr'], median_radius, df['mean radius'])\n",
    "df['mean area'] = np.where(df['is_outlier_area_iqr'], median_area, df['mean area'])\n",
    "\n",
    "# Feature Scaling\n",
    "scaler = MinMaxScaler()\n",
    "df_MinMax = scaler.fit_transform(df[['mean radius', 'mean area']])\n",
    "print(df_MinMax[:5])"
   ]
  },
  {
   "cell_type": "code",
   "execution_count": 20,
   "id": "d3782d40-917c-4dc7-a039-dc77f3425f00",
   "metadata": {},
   "outputs": [
    {
     "name": "stdout",
     "output_type": "stream",
     "text": [
      "[[ 1.41029162  2.18586512]\n",
      " [ 2.27190104 -0.03134053]\n",
      " [ 1.97801875 -0.03134053]\n",
      " [-0.7838068  -0.84449663]\n",
      " [ 2.17839304 -0.03134053]]\n"
     ]
    }
   ],
   "source": [
    "# Standardization\n",
    "scaler_std = StandardScaler()\n",
    "df_standard = scaler_std.fit_transform(df[['mean radius', 'mean area']])\n",
    "print(df_standard[:5])"
   ]
  },
  {
   "cell_type": "code",
   "execution_count": null,
   "id": "8c8f30f4-8498-4e70-a2aa-654cb3b4ea10",
   "metadata": {},
   "outputs": [],
   "source": [
    "# Reflection\n",
    "# Outliers and scaling are important steps when working with data. Outliers are the values that don’t really fit with the rest of the numbers.\n",
    "# They can throw off calculations like the mean and standard deviation, which makes the data less reliable. \n",
    "# By finding and either removing or replacing outliers, the dataset becomes more consistent and easier to work with.\n",
    "# Scaling is also important because different features can be on completely different ranges. \n",
    "# For example, one column might have values in the hundreds while another column only has values between 0 and 1. \n",
    "# Without scaling, the larger numbers can take over and make the smaller ones seem less important. \n",
    "# Min-Max scaling puts everything between 0 and 1, while Standardization centers the data around zero with a spread of one. \n",
    "# Both methods make comparisons more fair and help keep the analysis balanced. \n",
    "# Overall, handling outliers and scaling keeps the data cleaner and more useful."
   ]
  }
 ],
 "metadata": {
  "kernelspec": {
   "display_name": "Python [conda env:base] *",
   "language": "python",
   "name": "conda-base-py"
  },
  "language_info": {
   "codemirror_mode": {
    "name": "ipython",
    "version": 3
   },
   "file_extension": ".py",
   "mimetype": "text/x-python",
   "name": "python",
   "nbconvert_exporter": "python",
   "pygments_lexer": "ipython3",
   "version": "3.13.5"
  }
 },
 "nbformat": 4,
 "nbformat_minor": 5
}
